{
 "cells": [
  {
   "cell_type": "markdown",
   "metadata": {},
   "source": [
    "Working on Covid19 dataset\n",
    "Total Number of Observations: 23688\n",
    "\n",
    "Description Below:\n",
    "\n",
    "Date \n",
    "Country: Total 118 Countries\n",
    "Confirmed:23688 Enteries\n",
    "Recovered:23688 Enteries\n",
    "Deaths:23688 Enteries\n",
    "\n",
    "My Observations\n",
    "\n",
    "Date Play A Important Role in Getting the Accuarate Prediction as we can find duing the data range 50 - 120 significant increase in Cases along with Death Rate. High Chances of Getting Impacted by virus and High Chance of Increasing in death Rate."
   ]
  },
  {
   "cell_type": "code",
   "execution_count": 23,
   "metadata": {},
   "outputs": [],
   "source": [
    "import numpy as np\n",
    "import pandas as pd \n",
    "import sklearn\n",
    "import seaborn as sb\n",
    "import matplotlib.pyplot as plt\n",
    "from sklearn.metrics import accuracy_score\n",
    "from sklearn.metrics import confusion_matrix,classification_report\n",
    "from sklearn.model_selection import train_test_split\n",
    "from sklearn.naive_bayes import MultinomialNB\n",
    "from sklearn.svm import SVC\n",
    "from sklearn.tree import DecisionTreeClassifier\n",
    "from sklearn.neighbors import KNeighborsClassifier\n",
    "import warnings\n",
    "warnings.filterwarnings('ignore')"
   ]
  },
  {
   "cell_type": "code",
   "execution_count": 24,
   "metadata": {},
   "outputs": [
    {
     "data": {
      "text/html": [
       "<div>\n",
       "<style scoped>\n",
       "    .dataframe tbody tr th:only-of-type {\n",
       "        vertical-align: middle;\n",
       "    }\n",
       "\n",
       "    .dataframe tbody tr th {\n",
       "        vertical-align: top;\n",
       "    }\n",
       "\n",
       "    .dataframe thead th {\n",
       "        text-align: right;\n",
       "    }\n",
       "</style>\n",
       "<table border=\"1\" class=\"dataframe\">\n",
       "  <thead>\n",
       "    <tr style=\"text-align: right;\">\n",
       "      <th></th>\n",
       "      <th>Date</th>\n",
       "      <th>Country</th>\n",
       "      <th>Confirmed</th>\n",
       "      <th>Recovered</th>\n",
       "      <th>Deaths</th>\n",
       "    </tr>\n",
       "  </thead>\n",
       "  <tbody>\n",
       "    <tr>\n",
       "      <th>0</th>\n",
       "      <td>2020-01-22</td>\n",
       "      <td>Afghanistan</td>\n",
       "      <td>0</td>\n",
       "      <td>0</td>\n",
       "      <td>0</td>\n",
       "    </tr>\n",
       "    <tr>\n",
       "      <th>1</th>\n",
       "      <td>2020-01-22</td>\n",
       "      <td>Albania</td>\n",
       "      <td>0</td>\n",
       "      <td>0</td>\n",
       "      <td>0</td>\n",
       "    </tr>\n",
       "    <tr>\n",
       "      <th>2</th>\n",
       "      <td>2020-01-22</td>\n",
       "      <td>Algeria</td>\n",
       "      <td>0</td>\n",
       "      <td>0</td>\n",
       "      <td>0</td>\n",
       "    </tr>\n",
       "    <tr>\n",
       "      <th>3</th>\n",
       "      <td>2020-01-22</td>\n",
       "      <td>Andorra</td>\n",
       "      <td>0</td>\n",
       "      <td>0</td>\n",
       "      <td>0</td>\n",
       "    </tr>\n",
       "    <tr>\n",
       "      <th>4</th>\n",
       "      <td>2020-01-22</td>\n",
       "      <td>Angola</td>\n",
       "      <td>0</td>\n",
       "      <td>0</td>\n",
       "      <td>0</td>\n",
       "    </tr>\n",
       "  </tbody>\n",
       "</table>\n",
       "</div>"
      ],
      "text/plain": [
       "         Date      Country  Confirmed  Recovered  Deaths\n",
       "0  2020-01-22  Afghanistan          0          0       0\n",
       "1  2020-01-22      Albania          0          0       0\n",
       "2  2020-01-22      Algeria          0          0       0\n",
       "3  2020-01-22      Andorra          0          0       0\n",
       "4  2020-01-22       Angola          0          0       0"
      ]
     },
     "execution_count": 24,
     "metadata": {},
     "output_type": "execute_result"
    }
   ],
   "source": [
    "import pandas as pd\n",
    "df=pd.read_csv(\"Covid19.csv\")\n",
    "df.head()"
   ]
  },
  {
   "cell_type": "code",
   "execution_count": 25,
   "metadata": {},
   "outputs": [
    {
     "data": {
      "text/plain": [
       "(23688, 5)"
      ]
     },
     "execution_count": 25,
     "metadata": {},
     "output_type": "execute_result"
    }
   ],
   "source": [
    "df.shape"
   ]
  },
  {
   "cell_type": "code",
   "execution_count": 26,
   "metadata": {},
   "outputs": [
    {
     "data": {
      "text/plain": [
       "Index(['Date', 'Country', 'Confirmed', 'Recovered', 'Deaths'], dtype='object')"
      ]
     },
     "execution_count": 26,
     "metadata": {},
     "output_type": "execute_result"
    }
   ],
   "source": [
    "df.columns"
   ]
  },
  {
   "cell_type": "code",
   "execution_count": 27,
   "metadata": {},
   "outputs": [
    {
     "data": {
      "text/plain": [
       "188"
      ]
     },
     "execution_count": 27,
     "metadata": {},
     "output_type": "execute_result"
    }
   ],
   "source": [
    "import numpy as np\n",
    "len(df['Country'].unique())"
   ]
  },
  {
   "cell_type": "code",
   "execution_count": 28,
   "metadata": {},
   "outputs": [
    {
     "name": "stdout",
     "output_type": "stream",
     "text": [
      "<class 'pandas.core.frame.DataFrame'>\n",
      "RangeIndex: 23688 entries, 0 to 23687\n",
      "Data columns (total 5 columns):\n",
      " #   Column     Non-Null Count  Dtype \n",
      "---  ------     --------------  ----- \n",
      " 0   Date       23688 non-null  object\n",
      " 1   Country    23688 non-null  object\n",
      " 2   Confirmed  23688 non-null  int64 \n",
      " 3   Recovered  23688 non-null  int64 \n",
      " 4   Deaths     23688 non-null  int64 \n",
      "dtypes: int64(3), object(2)\n",
      "memory usage: 740.3+ KB\n"
     ]
    }
   ],
   "source": [
    "df.info()"
   ]
  },
  {
   "cell_type": "code",
   "execution_count": 30,
   "metadata": {},
   "outputs": [
    {
     "data": {
      "text/plain": [
       "Date         object\n",
       "Country      object\n",
       "Confirmed     int64\n",
       "Recovered     int64\n",
       "Deaths        int64\n",
       "dtype: object"
      ]
     },
     "execution_count": 30,
     "metadata": {},
     "output_type": "execute_result"
    }
   ],
   "source": [
    "df.dtypes"
   ]
  },
  {
   "cell_type": "markdown",
   "metadata": {},
   "source": [
    "Encoding"
   ]
  },
  {
   "cell_type": "code",
   "execution_count": 62,
   "metadata": {},
   "outputs": [],
   "source": [
    "from sklearn.preprocessing import LabelEncoder\n",
    "le=LabelEncoder()\n",
    "df['Country']=le.fit_transform(df['Country'].astype(str))\n",
    "df['Date']=le.fit_transform(df['Date'].astype(str))"
   ]
  },
  {
   "cell_type": "code",
   "execution_count": 32,
   "metadata": {},
   "outputs": [
    {
     "data": {
      "text/plain": [
       "Date         object\n",
       "Country       int32\n",
       "Confirmed     int64\n",
       "Recovered     int64\n",
       "Deaths        int64\n",
       "dtype: object"
      ]
     },
     "execution_count": 32,
     "metadata": {},
     "output_type": "execute_result"
    }
   ],
   "source": [
    "df.dtypes"
   ]
  },
  {
   "cell_type": "markdown",
   "metadata": {},
   "source": [
    "Null Values"
   ]
  },
  {
   "cell_type": "code",
   "execution_count": 33,
   "metadata": {},
   "outputs": [
    {
     "data": {
      "text/plain": [
       "Date         0\n",
       "Country      0\n",
       "Confirmed    0\n",
       "Recovered    0\n",
       "Deaths       0\n",
       "dtype: int64"
      ]
     },
     "execution_count": 33,
     "metadata": {},
     "output_type": "execute_result"
    }
   ],
   "source": [
    "df.isnull().sum()"
   ]
  },
  {
   "cell_type": "code",
   "execution_count": 34,
   "metadata": {},
   "outputs": [
    {
     "data": {
      "text/plain": [
       "<matplotlib.axes._subplots.AxesSubplot at 0xeb89ec8>"
      ]
     },
     "execution_count": 34,
     "metadata": {},
     "output_type": "execute_result"
    },
    {
     "data": {
      "image/png": "[encoded data removed]",
      "text/plain": [
       "<Figure size 432x288 with 2 Axes>"
      ]
     },
     "metadata": {
      "needs_background": "light"
     },
     "output_type": "display_data"
    }
   ],
   "source": [
    "sb.heatmap(df.isnull())"
   ]
  },
  {
   "cell_type": "markdown",
   "metadata": {},
   "source": [
    "No Missing Value found in Data"
   ]
  },
  {
   "cell_type": "markdown",
   "metadata": {},
   "source": [
    "Correlation"
   ]
  },
  {
   "cell_type": "code",
   "execution_count": 35,
   "metadata": {},
   "outputs": [
    {
     "data": {
      "text/html": [
       "<div>\n",
       "<style scoped>\n",
       "    .dataframe tbody tr th:only-of-type {\n",
       "        vertical-align: middle;\n",
       "    }\n",
       "\n",
       "    .dataframe tbody tr th {\n",
       "        vertical-align: top;\n",
       "    }\n",
       "\n",
       "    .dataframe thead th {\n",
       "        text-align: right;\n",
       "    }\n",
       "</style>\n",
       "<table border=\"1\" class=\"dataframe\">\n",
       "  <thead>\n",
       "    <tr style=\"text-align: right;\">\n",
       "      <th></th>\n",
       "      <th>Country</th>\n",
       "      <th>Confirmed</th>\n",
       "      <th>Recovered</th>\n",
       "      <th>Deaths</th>\n",
       "    </tr>\n",
       "  </thead>\n",
       "  <tbody>\n",
       "    <tr>\n",
       "      <th>Country</th>\n",
       "      <td>1.000000</td>\n",
       "      <td>0.069204</td>\n",
       "      <td>0.019298</td>\n",
       "      <td>0.064954</td>\n",
       "    </tr>\n",
       "    <tr>\n",
       "      <th>Confirmed</th>\n",
       "      <td>0.069204</td>\n",
       "      <td>1.000000</td>\n",
       "      <td>0.810991</td>\n",
       "      <td>0.929718</td>\n",
       "    </tr>\n",
       "    <tr>\n",
       "      <th>Recovered</th>\n",
       "      <td>0.019298</td>\n",
       "      <td>0.810991</td>\n",
       "      <td>1.000000</td>\n",
       "      <td>0.778094</td>\n",
       "    </tr>\n",
       "    <tr>\n",
       "      <th>Deaths</th>\n",
       "      <td>0.064954</td>\n",
       "      <td>0.929718</td>\n",
       "      <td>0.778094</td>\n",
       "      <td>1.000000</td>\n",
       "    </tr>\n",
       "  </tbody>\n",
       "</table>\n",
       "</div>"
      ],
      "text/plain": [
       "            Country  Confirmed  Recovered    Deaths\n",
       "Country    1.000000   0.069204   0.019298  0.064954\n",
       "Confirmed  0.069204   1.000000   0.810991  0.929718\n",
       "Recovered  0.019298   0.810991   1.000000  0.778094\n",
       "Deaths     0.064954   0.929718   0.778094  1.000000"
      ]
     },
     "execution_count": 35,
     "metadata": {},
     "output_type": "execute_result"
    }
   ],
   "source": [
    "dfcor=df.corr()\n",
    "dfcor"
   ]
  },
  {
   "cell_type": "code",
   "execution_count": 36,
   "metadata": {},
   "outputs": [
    {
     "data": {
      "image/png": "[encoded data removed]",
      "text/plain": [
       "<Figure size 1080x504 with 2 Axes>"
      ]
     },
     "metadata": {
      "needs_background": "light"
     },
     "output_type": "display_data"
    }
   ],
   "source": [
    "corr=df.corr()\n",
    "plt.figure(figsize=(15,7))\n",
    "sb.heatmap(corr,annot=True,linewidths=0.5,linecolor=\"black\",fmt=\".2f\")\n",
    "plt.show()"
   ]
  },
  {
   "cell_type": "markdown",
   "metadata": {},
   "source": [
    "My Observation:\n",
    "    Death is the target variable,\n",
    "    Strong Correction with Confirmed Cases,\n",
    "    Week Correction with countries."
   ]
  },
  {
   "cell_type": "code",
   "execution_count": 37,
   "metadata": {},
   "outputs": [
    {
     "data": {
      "text/html": [
       "<div>\n",
       "<style scoped>\n",
       "    .dataframe tbody tr th:only-of-type {\n",
       "        vertical-align: middle;\n",
       "    }\n",
       "\n",
       "    .dataframe tbody tr th {\n",
       "        vertical-align: top;\n",
       "    }\n",
       "\n",
       "    .dataframe thead th {\n",
       "        text-align: right;\n",
       "    }\n",
       "</style>\n",
       "<table border=\"1\" class=\"dataframe\">\n",
       "  <thead>\n",
       "    <tr style=\"text-align: right;\">\n",
       "      <th></th>\n",
       "      <th>Country</th>\n",
       "      <th>Confirmed</th>\n",
       "      <th>Recovered</th>\n",
       "      <th>Deaths</th>\n",
       "    </tr>\n",
       "  </thead>\n",
       "  <tbody>\n",
       "    <tr>\n",
       "      <th>count</th>\n",
       "      <td>23688.000000</td>\n",
       "      <td>2.368800e+04</td>\n",
       "      <td>23688.000000</td>\n",
       "      <td>23688.000000</td>\n",
       "    </tr>\n",
       "    <tr>\n",
       "      <th>mean</th>\n",
       "      <td>93.500000</td>\n",
       "      <td>7.969368e+03</td>\n",
       "      <td>2581.801714</td>\n",
       "      <td>526.935030</td>\n",
       "    </tr>\n",
       "    <tr>\n",
       "      <th>std</th>\n",
       "      <td>54.271303</td>\n",
       "      <td>5.842109e+04</td>\n",
       "      <td>15143.101257</td>\n",
       "      <td>3992.815956</td>\n",
       "    </tr>\n",
       "    <tr>\n",
       "      <th>min</th>\n",
       "      <td>0.000000</td>\n",
       "      <td>0.000000e+00</td>\n",
       "      <td>0.000000</td>\n",
       "      <td>0.000000</td>\n",
       "    </tr>\n",
       "    <tr>\n",
       "      <th>25%</th>\n",
       "      <td>46.750000</td>\n",
       "      <td>0.000000e+00</td>\n",
       "      <td>0.000000</td>\n",
       "      <td>0.000000</td>\n",
       "    </tr>\n",
       "    <tr>\n",
       "      <th>50%</th>\n",
       "      <td>93.500000</td>\n",
       "      <td>1.800000e+01</td>\n",
       "      <td>1.000000</td>\n",
       "      <td>0.000000</td>\n",
       "    </tr>\n",
       "    <tr>\n",
       "      <th>75%</th>\n",
       "      <td>140.250000</td>\n",
       "      <td>7.300000e+02</td>\n",
       "      <td>123.000000</td>\n",
       "      <td>13.000000</td>\n",
       "    </tr>\n",
       "    <tr>\n",
       "      <th>max</th>\n",
       "      <td>187.000000</td>\n",
       "      <td>1.680913e+06</td>\n",
       "      <td>384902.000000</td>\n",
       "      <td>98913.000000</td>\n",
       "    </tr>\n",
       "  </tbody>\n",
       "</table>\n",
       "</div>"
      ],
      "text/plain": [
       "            Country     Confirmed      Recovered        Deaths\n",
       "count  23688.000000  2.368800e+04   23688.000000  23688.000000\n",
       "mean      93.500000  7.969368e+03    2581.801714    526.935030\n",
       "std       54.271303  5.842109e+04   15143.101257   3992.815956\n",
       "min        0.000000  0.000000e+00       0.000000      0.000000\n",
       "25%       46.750000  0.000000e+00       0.000000      0.000000\n",
       "50%       93.500000  1.800000e+01       1.000000      0.000000\n",
       "75%      140.250000  7.300000e+02     123.000000     13.000000\n",
       "max      187.000000  1.680913e+06  384902.000000  98913.000000"
      ]
     },
     "execution_count": 37,
     "metadata": {},
     "output_type": "execute_result"
    }
   ],
   "source": [
    "df.describe()"
   ]
  },
  {
   "cell_type": "code",
   "execution_count": 40,
   "metadata": {},
   "outputs": [
    {
     "data": {
      "image/png": "[encoded data removed]",
      "text/plain": [
       "<Figure size 720x648 with 2 Axes>"
      ]
     },
     "metadata": {
      "needs_background": "light"
     },
     "output_type": "display_data"
    }
   ],
   "source": [
    "plt.figure(figsize=(10,9))\n",
    "sb.heatmap(round(df.describe()[1:].transpose(),2),linewidth=2,annot=True,fmt=\".2f\")\n",
    "plt.xticks(fontsize=18)\n",
    "plt.yticks(fontsize=12)\n",
    "plt.title(\"Variable Summary\")\n",
    "plt.show()"
   ]
  },
  {
   "cell_type": "code",
   "execution_count": 45,
   "metadata": {},
   "outputs": [
    {
     "data": {
      "text/plain": [
       "<seaborn.axisgrid.PairGrid at 0x10b42e80>"
      ]
     },
     "execution_count": 45,
     "metadata": {},
     "output_type": "execute_result"
    },
    {
     "data": {
      "image/png": "[encoded data removed]",
      "text/plain": [
       "<Figure size 720x720 with 20 Axes>"
      ]
     },
     "metadata": {
      "needs_background": "light"
     },
     "output_type": "display_data"
    }
   ],
   "source": [
    "sb.pairplot(df)"
   ]
  },
  {
   "cell_type": "markdown",
   "metadata": {},
   "source": [
    "Counties encoded above 150 are having high death rate.\n",
    "Confirmed cases are having correlation with Death Rate."
   ]
  },
  {
   "cell_type": "markdown",
   "metadata": {},
   "source": [
    "Skewness"
   ]
  },
  {
   "cell_type": "code",
   "execution_count": 46,
   "metadata": {},
   "outputs": [
    {
     "data": {
      "text/plain": [
       "Country       0.000000\n",
       "Confirmed    18.674502\n",
       "Recovered    10.662286\n",
       "Deaths       14.218167\n",
       "dtype: float64"
      ]
     },
     "execution_count": 46,
     "metadata": {},
     "output_type": "execute_result"
    }
   ],
   "source": [
    "df.skew()"
   ]
  },
  {
   "cell_type": "raw",
   "metadata": {},
   "source": [
    "Outcomes of Skewness: I have taken thresold value of skewness +/- .65. \n",
    "    Columns having high skewness are: Confirmed , Recovered, Deaths"
   ]
  },
  {
   "cell_type": "markdown",
   "metadata": {},
   "source": [
    "Univariant Analysis"
   ]
  },
  {
   "cell_type": "code",
   "execution_count": 47,
   "metadata": {
    "scrolled": false
   },
   "outputs": [
    {
     "data": {
      "text/plain": [
       "<matplotlib.axes._subplots.AxesSubplot at 0x10ef8eb0>"
      ]
     },
     "execution_count": 47,
     "metadata": {},
     "output_type": "execute_result"
    },
    {
     "data": {
      "image/png": "[encoded data removed]",
      "text/plain": [
       "<Figure size 432x288 with 1 Axes>"
      ]
     },
     "metadata": {
      "needs_background": "light"
     },
     "output_type": "display_data"
    }
   ],
   "source": [
    "sb.distplot(df[\"Confirmed\"])"
   ]
  },
  {
   "cell_type": "code",
   "execution_count": 48,
   "metadata": {
    "scrolled": true
   },
   "outputs": [
    {
     "data": {
      "text/plain": [
       "<matplotlib.axes._subplots.AxesSubplot at 0x10b1cef8>"
      ]
     },
     "execution_count": 48,
     "metadata": {},
     "output_type": "execute_result"
    },
    {
     "data": {
      "image/png": "[encoded data removed]",
      "text/plain": [
       "<Figure size 432x288 with 1 Axes>"
      ]
     },
     "metadata": {
      "needs_background": "light"
     },
     "output_type": "display_data"
    }
   ],
   "source": [
    "sb.distplot(df[\"Recovered\"])"
   ]
  },
  {
   "cell_type": "markdown",
   "metadata": {},
   "source": [
    "Bi Variant Analysis"
   ]
  },
  {
   "cell_type": "code",
   "execution_count": 50,
   "metadata": {},
   "outputs": [
    {
     "data": {
      "image/png": "[encoded data removed]",
      "text/plain": [
       "<Figure size 432x288 with 1 Axes>"
      ]
     },
     "metadata": {
      "needs_background": "light"
     },
     "output_type": "display_data"
    }
   ],
   "source": [
    "plt.scatter(df[\"Deaths\"],df['Country'])\n",
    "plt.title(\"Bi Variant Analysis With Death & Countries \")\n",
    "plt.ylabel('Deaths')\n",
    "plt.xlabel('Country')\n",
    "plt.show()\n",
    "\n"
   ]
  },
  {
   "cell_type": "markdown",
   "metadata": {},
   "source": [
    "Countires in range between 0 - 25, 50 - 75, 75 - 100, 150 - 175 above are having high death rate when compare with other ranage countries "
   ]
  },
  {
   "cell_type": "code",
   "execution_count": 63,
   "metadata": {},
   "outputs": [
    {
     "data": {
      "image/png": "[encoded data removed]",
      "text/plain": [
       "<Figure size 432x288 with 1 Axes>"
      ]
     },
     "metadata": {
      "needs_background": "light"
     },
     "output_type": "display_data"
    }
   ],
   "source": [
    "plt.scatter(df[\"Deaths\"],df['Date'])\n",
    "plt.title(\"Bi Variant Analysis With Death & Date \")\n",
    "plt.ylabel('Deaths')\n",
    "plt.xlabel('Date')\n",
    "plt.show()"
   ]
  },
  {
   "cell_type": "markdown",
   "metadata": {},
   "source": [
    "Death Rate has been increased in Data Range from 60 - 120 Significantly."
   ]
  },
  {
   "cell_type": "code",
   "execution_count": 70,
   "metadata": {},
   "outputs": [
    {
     "data": {
      "image/png": "[encoded data removed]",
      "text/plain": [
       "<Figure size 432x288 with 1 Axes>"
      ]
     },
     "metadata": {
      "needs_background": "light"
     },
     "output_type": "display_data"
    }
   ],
   "source": [
    "plt.scatter(df[\"Date\"],df['Confirmed'])\n",
    "plt.title(\"Bi Variant Analysis With Date & Confirmed \")\n",
    "plt.ylabel('Date')\n",
    "plt.xlabel('Confirmed')\n",
    "plt.show()"
   ]
  },
  {
   "cell_type": "markdown",
   "metadata": {},
   "source": [
    "There is a Significant Increase in Confirm Cases along with Day to Day Passing"
   ]
  },
  {
   "cell_type": "code",
   "execution_count": 51,
   "metadata": {},
   "outputs": [
    {
     "data": {
      "image/png": "[encoded data removed]",
      "text/plain": [
       "<Figure size 432x288 with 1 Axes>"
      ]
     },
     "metadata": {
      "needs_background": "light"
     },
     "output_type": "display_data"
    }
   ],
   "source": [
    "plt.scatter(df[\"Deaths\"],df['Confirmed'])\n",
    "plt.title(\"Bi Variant Analysis With Death & Confirmed \")\n",
    "plt.ylabel('Deaths')\n",
    "plt.xlabel('Confirmed')\n",
    "plt.show()\n"
   ]
  },
  {
   "cell_type": "markdown",
   "metadata": {},
   "source": [
    "Increase in confirm cases has storng relation with Death rate"
   ]
  },
  {
   "cell_type": "markdown",
   "metadata": {},
   "source": [
    "Removing Outliers"
   ]
  },
  {
   "cell_type": "code",
   "execution_count": 56,
   "metadata": {},
   "outputs": [
    {
     "data": {
      "text/plain": [
       "(23688, 4)"
      ]
     },
     "execution_count": 56,
     "metadata": {},
     "output_type": "execute_result"
    }
   ],
   "source": [
    "df_new=df.drop(['Date'],axis=1)\n",
    "from scipy.stats import zscore\n",
    "import numpy as np\n",
    "z=np.abs(zscore(df_new))\n",
    "z.shape"
   ]
  },
  {
   "cell_type": "code",
   "execution_count": 57,
   "metadata": {},
   "outputs": [
    {
     "name": "stdout",
     "output_type": "stream",
     "text": [
      "(array([ 7932,  8120,  8308,  8496,  8684,  8872,  9060,  9248,  9436,\n",
      "        9624,  9812, 10000, 10188, 10376, 10564, 10752, 10940, 11128,\n",
      "       11316, 11504, 11692, 11880, 12068, 12256, 12444, 12632, 12820,\n",
      "       13008, 13146, 13196, 13245, 13334, 13384, 13433, 13522, 13572,\n",
      "       13621, 13710, 13760, 13809, 13898, 13948, 13997, 14070, 14086,\n",
      "       14136, 14185, 14258, 14274, 14274, 14324, 14373, 14446, 14462,\n",
      "       14462, 14512, 14561, 14634, 14634, 14650, 14650, 14700, 14730,\n",
      "       14749, 14822, 14822, 14838, 14838, 14888, 14914, 14918, 14937,\n",
      "       15010, 15010, 15026, 15026, 15076, 15102, 15106, 15125, 15198,\n",
      "       15198, 15214, 15214, 15264, 15290, 15294, 15313, 15386, 15386,\n",
      "       15402, 15402, 15452, 15478, 15482, 15501, 15574, 15574, 15590,\n",
      "       15590, 15594, 15640, 15666, 15670, 15685, 15689, 15762, 15762,\n",
      "       15778, 15778, 15782, 15828, 15854, 15858, 15873, 15877, 15950,\n",
      "       15950, 15966, 15966, 15966, 15970, 16016, 16042, 16046, 16061,\n",
      "       16065, 16138, 16138, 16138, 16154, 16154, 16154, 16158, 16204,\n",
      "       16230, 16234, 16249, 16253, 16326, 16326, 16326, 16342, 16342,\n",
      "       16342, 16346, 16392, 16418, 16422, 16437, 16441, 16514, 16514,\n",
      "       16514, 16530, 16530, 16530, 16534, 16580, 16606, 16610, 16625,\n",
      "       16629, 16702, 16702, 16702, 16718, 16718, 16718, 16722, 16768,\n",
      "       16794, 16798, 16813, 16817, 16817, 16890, 16890, 16890, 16906,\n",
      "       16906, 16906, 16910, 16956, 16982, 16986, 17001, 17005, 17005,\n",
      "       17005, 17078, 17078, 17078, 17094, 17094, 17094, 17098, 17144,\n",
      "       17170, 17174, 17189, 17193, 17193, 17193, 17266, 17266, 17266,\n",
      "       17282, 17282, 17282, 17286, 17332, 17358, 17362, 17377, 17381,\n",
      "       17381, 17381, 17454, 17454, 17454, 17470, 17470, 17470, 17474,\n",
      "       17520, 17546, 17550, 17565, 17569, 17569, 17569, 17642, 17642,\n",
      "       17642, 17658, 17658, 17658, 17662, 17708, 17734, 17738, 17753,\n",
      "       17757, 17757, 17757, 17830, 17830, 17830, 17846, 17846, 17846,\n",
      "       17850, 17896, 17922, 17926, 17941, 17945, 17945, 17945, 18018,\n",
      "       18018, 18018, 18034, 18034, 18034, 18038, 18084, 18110, 18114,\n",
      "       18129, 18133, 18133, 18133, 18206, 18206, 18206, 18222, 18222,\n",
      "       18222, 18226, 18272, 18298, 18302, 18317, 18321, 18321, 18321,\n",
      "       18394, 18394, 18394, 18410, 18410, 18410, 18414, 18460, 18486,\n",
      "       18486, 18490, 18505, 18509, 18509, 18509, 18582, 18582, 18582,\n",
      "       18598, 18598, 18598, 18602, 18648, 18674, 18674, 18678, 18693,\n",
      "       18697, 18697, 18697, 18770, 18770, 18770, 18785, 18786, 18786,\n",
      "       18786, 18790, 18836, 18862, 18862, 18866, 18881, 18885, 18885,\n",
      "       18885, 18958, 18958, 18958, 18973, 18974, 18974, 18974, 18978,\n",
      "       19024, 19050, 19050, 19054, 19069, 19073, 19073, 19073, 19146,\n",
      "       19146, 19146, 19161, 19162, 19162, 19162, 19166, 19166, 19212,\n",
      "       19238, 19238, 19242, 19257, 19261, 19261, 19261, 19334, 19334,\n",
      "       19334, 19349, 19350, 19350, 19350, 19354, 19354, 19400, 19426,\n",
      "       19426, 19430, 19445, 19449, 19449, 19449, 19522, 19522, 19522,\n",
      "       19537, 19538, 19538, 19538, 19542, 19542, 19575, 19588, 19614,\n",
      "       19614, 19618, 19633, 19637, 19637, 19637, 19710, 19710, 19710,\n",
      "       19725, 19726, 19726, 19726, 19730, 19730, 19763, 19776, 19802,\n",
      "       19802, 19806, 19821, 19825, 19825, 19825, 19898, 19898, 19898,\n",
      "       19913, 19914, 19914, 19914, 19918, 19918, 19951, 19964, 19990,\n",
      "       19990, 19994, 20009, 20013, 20013, 20013, 20086, 20086, 20086,\n",
      "       20101, 20102, 20102, 20102, 20106, 20106, 20139, 20152, 20178,\n",
      "       20178, 20182, 20197, 20201, 20201, 20201, 20256, 20274, 20274,\n",
      "       20274, 20289, 20290, 20290, 20290, 20294, 20294, 20327, 20340,\n",
      "       20366, 20366, 20370, 20385, 20389, 20389, 20389, 20444, 20462,\n",
      "       20462, 20462, 20477, 20478, 20478, 20478, 20482, 20482, 20515,\n",
      "       20528, 20554, 20554, 20558, 20573, 20577, 20577, 20577, 20632,\n",
      "       20650, 20650, 20650, 20665, 20666, 20666, 20666, 20670, 20670,\n",
      "       20703, 20716, 20742, 20742, 20746, 20761, 20765, 20765, 20765,\n",
      "       20820, 20838, 20838, 20838, 20853, 20854, 20854, 20854, 20858,\n",
      "       20858, 20891, 20904, 20930, 20930, 20934, 20949, 20953, 20953,\n",
      "       20953, 21008, 21026, 21026, 21026, 21041, 21042, 21042, 21042,\n",
      "       21046, 21046, 21079, 21079, 21079, 21092, 21118, 21118, 21122,\n",
      "       21137, 21141, 21141, 21141, 21196, 21214, 21214, 21214, 21229,\n",
      "       21230, 21230, 21230, 21234, 21234, 21267, 21267, 21267, 21280,\n",
      "       21306, 21306, 21310, 21325, 21329, 21329, 21329, 21384, 21384,\n",
      "       21402, 21402, 21402, 21417, 21418, 21418, 21418, 21422, 21422,\n",
      "       21455, 21455, 21455, 21468, 21494, 21494, 21498, 21513, 21517,\n",
      "       21517, 21517, 21572, 21572, 21590, 21590, 21590, 21605, 21606,\n",
      "       21606, 21606, 21610, 21610, 21643, 21643, 21643, 21656, 21682,\n",
      "       21682, 21686, 21701, 21705, 21705, 21705, 21760, 21760, 21778,\n",
      "       21778, 21778, 21793, 21794, 21794, 21794, 21798, 21798, 21831,\n",
      "       21831, 21831, 21844, 21870, 21870, 21874, 21889, 21893, 21893,\n",
      "       21893, 21948, 21948, 21966, 21966, 21966, 21981, 21982, 21982,\n",
      "       21982, 21986, 21986, 22019, 22019, 22019, 22032, 22058, 22058,\n",
      "       22062, 22077, 22081, 22081, 22081, 22136, 22136, 22154, 22154,\n",
      "       22154, 22169, 22170, 22170, 22170, 22174, 22174, 22207, 22207,\n",
      "       22207, 22220, 22246, 22246, 22250, 22265, 22269, 22269, 22269,\n",
      "       22324, 22324, 22342, 22342, 22342, 22357, 22358, 22358, 22358,\n",
      "       22362, 22362, 22395, 22395, 22395, 22408, 22434, 22434, 22438,\n",
      "       22453, 22457, 22457, 22457, 22512, 22512, 22530, 22530, 22530,\n",
      "       22545, 22546, 22546, 22546, 22550, 22550, 22583, 22583, 22583,\n",
      "       22596, 22622, 22622, 22626, 22639, 22641, 22645, 22645, 22645,\n",
      "       22700, 22700, 22718, 22718, 22718, 22733, 22734, 22734, 22734,\n",
      "       22738, 22738, 22771, 22771, 22771, 22784, 22810, 22810, 22814,\n",
      "       22827, 22829, 22833, 22833, 22833, 22888, 22888, 22906, 22906,\n",
      "       22906, 22921, 22922, 22922, 22922, 22926, 22926, 22959, 22959,\n",
      "       22959, 22972, 22998, 22998, 23002, 23015, 23017, 23021, 23021,\n",
      "       23021, 23076, 23076, 23094, 23094, 23094, 23109, 23110, 23110,\n",
      "       23110, 23114, 23114, 23147, 23147, 23147, 23160, 23186, 23186,\n",
      "       23190, 23203, 23205, 23209, 23209, 23209, 23258, 23264, 23264,\n",
      "       23282, 23282, 23282, 23297, 23298, 23298, 23298, 23302, 23302,\n",
      "       23335, 23335, 23335, 23348, 23374, 23374, 23378, 23391, 23393,\n",
      "       23397, 23397, 23397, 23425, 23446, 23452, 23452, 23470, 23470,\n",
      "       23470, 23485, 23486, 23486, 23486, 23490, 23490, 23523, 23523,\n",
      "       23523, 23536, 23562, 23562, 23566, 23579, 23581, 23585, 23585,\n",
      "       23585, 23613, 23634, 23640, 23640, 23647, 23658, 23658, 23658,\n",
      "       23673, 23674, 23674, 23674, 23678, 23678], dtype=int32), array([2, 2, 2, 2, 2, 2, 2, 2, 2, 2, 2, 2, 2, 2, 2, 2, 2, 2, 2, 2, 2, 2,\n",
      "       2, 2, 2, 2, 2, 2, 1, 2, 3, 1, 2, 3, 1, 2, 3, 1, 2, 3, 1, 2, 3, 3,\n",
      "       1, 2, 3, 3, 1, 3, 2, 3, 3, 1, 3, 2, 3, 2, 3, 1, 3, 2, 2, 3, 2, 3,\n",
      "       1, 3, 2, 3, 2, 3, 2, 3, 1, 3, 2, 3, 2, 3, 2, 3, 1, 3, 2, 3, 2, 3,\n",
      "       2, 3, 1, 3, 2, 3, 2, 3, 2, 3, 1, 3, 3, 2, 3, 2, 2, 3, 2, 3, 1, 3,\n",
      "       3, 2, 3, 2, 2, 3, 2, 3, 1, 2, 3, 3, 2, 3, 2, 2, 3, 1, 2, 3, 1, 2,\n",
      "       3, 3, 2, 3, 2, 2, 3, 1, 2, 3, 1, 2, 3, 3, 2, 3, 2, 2, 3, 1, 2, 3,\n",
      "       1, 2, 3, 3, 2, 3, 2, 2, 3, 1, 2, 3, 1, 2, 3, 3, 2, 3, 2, 2, 2, 3,\n",
      "       1, 2, 3, 1, 2, 3, 3, 2, 3, 2, 2, 1, 2, 3, 1, 2, 3, 1, 2, 3, 3, 2,\n",
      "       3, 2, 2, 1, 2, 3, 1, 2, 3, 1, 2, 3, 3, 2, 3, 2, 2, 1, 2, 3, 1, 2,\n",
      "       3, 1, 2, 3, 3, 2, 3, 2, 2, 1, 2, 3, 1, 2, 3, 1, 2, 3, 3, 2, 3, 2,\n",
      "       2, 1, 2, 3, 1, 2, 3, 1, 2, 3, 3, 2, 3, 2, 2, 1, 2, 3, 1, 2, 3, 1,\n",
      "       2, 3, 3, 2, 3, 2, 2, 1, 2, 3, 1, 2, 3, 1, 2, 3, 3, 2, 3, 2, 2, 1,\n",
      "       2, 3, 1, 2, 3, 1, 2, 3, 3, 2, 2, 3, 2, 2, 1, 2, 3, 1, 2, 3, 1, 2,\n",
      "       3, 3, 2, 2, 3, 2, 2, 1, 2, 3, 1, 2, 3, 2, 1, 2, 3, 3, 2, 2, 3, 2,\n",
      "       2, 1, 2, 3, 1, 2, 3, 2, 1, 2, 3, 3, 2, 2, 3, 2, 2, 1, 2, 3, 1, 2,\n",
      "       3, 2, 1, 2, 3, 1, 3, 2, 2, 3, 2, 2, 1, 2, 3, 1, 2, 3, 2, 1, 2, 3,\n",
      "       1, 3, 2, 2, 3, 2, 2, 1, 2, 3, 1, 2, 3, 2, 1, 2, 3, 1, 3, 2, 2, 2,\n",
      "       3, 2, 2, 1, 2, 3, 1, 2, 3, 2, 1, 2, 3, 1, 3, 2, 2, 2, 3, 2, 2, 1,\n",
      "       2, 3, 1, 2, 3, 2, 1, 2, 3, 1, 3, 2, 2, 2, 3, 2, 2, 1, 2, 3, 1, 2,\n",
      "       3, 2, 1, 2, 3, 1, 3, 2, 2, 2, 3, 2, 2, 1, 2, 3, 1, 1, 2, 3, 2, 1,\n",
      "       2, 3, 1, 3, 2, 2, 2, 3, 2, 2, 1, 2, 3, 1, 1, 2, 3, 2, 1, 2, 3, 1,\n",
      "       3, 2, 2, 2, 3, 2, 2, 1, 2, 3, 1, 1, 2, 3, 2, 1, 2, 3, 1, 3, 2, 2,\n",
      "       2, 3, 2, 2, 1, 2, 3, 1, 1, 2, 3, 2, 1, 2, 3, 1, 3, 2, 2, 2, 3, 2,\n",
      "       2, 1, 2, 3, 1, 1, 2, 3, 2, 1, 2, 3, 1, 3, 1, 2, 3, 2, 2, 3, 2, 2,\n",
      "       1, 2, 3, 1, 1, 2, 3, 2, 1, 2, 3, 1, 3, 1, 2, 3, 2, 2, 3, 2, 2, 1,\n",
      "       2, 3, 1, 2, 1, 2, 3, 2, 1, 2, 3, 1, 3, 1, 2, 3, 2, 2, 3, 2, 2, 1,\n",
      "       2, 3, 1, 2, 1, 2, 3, 2, 1, 2, 3, 1, 3, 1, 2, 3, 2, 2, 3, 2, 2, 1,\n",
      "       2, 3, 1, 2, 1, 2, 3, 2, 1, 2, 3, 1, 3, 1, 2, 3, 2, 2, 3, 2, 2, 1,\n",
      "       2, 3, 1, 2, 1, 2, 3, 2, 1, 2, 3, 1, 3, 1, 2, 3, 2, 2, 3, 2, 2, 1,\n",
      "       2, 3, 1, 2, 1, 2, 3, 2, 1, 2, 3, 1, 3, 1, 2, 3, 2, 2, 3, 2, 2, 1,\n",
      "       2, 3, 1, 2, 1, 2, 3, 2, 1, 2, 3, 1, 3, 1, 2, 3, 2, 2, 3, 2, 2, 1,\n",
      "       2, 3, 1, 2, 1, 2, 3, 2, 1, 2, 3, 1, 3, 1, 2, 3, 2, 2, 3, 2, 2, 2,\n",
      "       1, 2, 3, 1, 2, 1, 2, 3, 2, 1, 2, 3, 1, 3, 1, 2, 3, 2, 2, 3, 2, 2,\n",
      "       2, 1, 2, 3, 1, 2, 1, 2, 3, 2, 1, 2, 3, 1, 3, 1, 2, 3, 2, 2, 3, 2,\n",
      "       2, 2, 1, 2, 3, 1, 2, 1, 2, 3, 2, 1, 2, 3, 1, 3, 1, 2, 3, 2, 2, 3,\n",
      "       2, 2, 2, 1, 2, 3, 2, 1, 2, 1, 2, 3, 2, 1, 2, 3, 1, 3, 1, 2, 3, 2,\n",
      "       2, 3, 2, 2, 2, 1, 2, 3, 2, 2, 1, 2, 1, 2, 3, 2, 1, 2, 3, 1, 3, 1,\n",
      "       2, 3, 2, 2, 3, 2, 2, 2, 1, 2, 3, 2, 2, 1, 2, 2, 1, 2, 3, 2, 1, 2,\n",
      "       3, 1, 3], dtype=int32))\n"
     ]
    }
   ],
   "source": [
    "thresold =3 \n",
    "print (np.where(z>3))"
   ]
  },
  {
   "cell_type": "code",
   "execution_count": 79,
   "metadata": {},
   "outputs": [
    {
     "name": "stdout",
     "output_type": "stream",
     "text": [
      "(23688, 5)\n",
      "(23177, 5)\n"
     ]
    }
   ],
   "source": [
    "df_news=df[(z<3).all(axis=1)]\n",
    "print(df.shape)\n",
    "print (df_news.shape)"
   ]
  },
  {
   "cell_type": "code",
   "execution_count": 80,
   "metadata": {},
   "outputs": [
    {
     "name": "stdout",
     "output_type": "stream",
     "text": [
      "Loss % = 2.170597207556025\n"
     ]
    }
   ],
   "source": [
    "loss_percentage=(8523-8338)/8523*100\n",
    "print ('Loss % =',loss_percentage)"
   ]
  },
  {
   "cell_type": "code",
   "execution_count": 66,
   "metadata": {},
   "outputs": [
    {
     "data": {
      "text/html": [
       "<div>\n",
       "<style scoped>\n",
       "    .dataframe tbody tr th:only-of-type {\n",
       "        vertical-align: middle;\n",
       "    }\n",
       "\n",
       "    .dataframe tbody tr th {\n",
       "        vertical-align: top;\n",
       "    }\n",
       "\n",
       "    .dataframe thead th {\n",
       "        text-align: right;\n",
       "    }\n",
       "</style>\n",
       "<table border=\"1\" class=\"dataframe\">\n",
       "  <thead>\n",
       "    <tr style=\"text-align: right;\">\n",
       "      <th></th>\n",
       "      <th>Date</th>\n",
       "      <th>Country</th>\n",
       "      <th>Confirmed</th>\n",
       "      <th>Recovered</th>\n",
       "      <th>Deaths</th>\n",
       "    </tr>\n",
       "  </thead>\n",
       "  <tbody>\n",
       "    <tr>\n",
       "      <th>0</th>\n",
       "      <td>0</td>\n",
       "      <td>0</td>\n",
       "      <td>0</td>\n",
       "      <td>0</td>\n",
       "      <td>0</td>\n",
       "    </tr>\n",
       "    <tr>\n",
       "      <th>1</th>\n",
       "      <td>0</td>\n",
       "      <td>1</td>\n",
       "      <td>0</td>\n",
       "      <td>0</td>\n",
       "      <td>0</td>\n",
       "    </tr>\n",
       "    <tr>\n",
       "      <th>2</th>\n",
       "      <td>0</td>\n",
       "      <td>100</td>\n",
       "      <td>0</td>\n",
       "      <td>0</td>\n",
       "      <td>0</td>\n",
       "    </tr>\n",
       "    <tr>\n",
       "      <th>3</th>\n",
       "      <td>0</td>\n",
       "      <td>111</td>\n",
       "      <td>0</td>\n",
       "      <td>0</td>\n",
       "      <td>0</td>\n",
       "    </tr>\n",
       "    <tr>\n",
       "      <th>4</th>\n",
       "      <td>0</td>\n",
       "      <td>122</td>\n",
       "      <td>0</td>\n",
       "      <td>0</td>\n",
       "      <td>0</td>\n",
       "    </tr>\n",
       "    <tr>\n",
       "      <th>...</th>\n",
       "      <td>...</td>\n",
       "      <td>...</td>\n",
       "      <td>...</td>\n",
       "      <td>...</td>\n",
       "      <td>...</td>\n",
       "    </tr>\n",
       "    <tr>\n",
       "      <th>23683</th>\n",
       "      <td>125</td>\n",
       "      <td>94</td>\n",
       "      <td>429</td>\n",
       "      <td>365</td>\n",
       "      <td>3</td>\n",
       "    </tr>\n",
       "    <tr>\n",
       "      <th>23684</th>\n",
       "      <td>125</td>\n",
       "      <td>95</td>\n",
       "      <td>9</td>\n",
       "      <td>6</td>\n",
       "      <td>1</td>\n",
       "    </tr>\n",
       "    <tr>\n",
       "      <th>23685</th>\n",
       "      <td>125</td>\n",
       "      <td>96</td>\n",
       "      <td>249</td>\n",
       "      <td>10</td>\n",
       "      <td>49</td>\n",
       "    </tr>\n",
       "    <tr>\n",
       "      <th>23686</th>\n",
       "      <td>125</td>\n",
       "      <td>97</td>\n",
       "      <td>920</td>\n",
       "      <td>336</td>\n",
       "      <td>7</td>\n",
       "    </tr>\n",
       "    <tr>\n",
       "      <th>23687</th>\n",
       "      <td>125</td>\n",
       "      <td>98</td>\n",
       "      <td>56</td>\n",
       "      <td>25</td>\n",
       "      <td>4</td>\n",
       "    </tr>\n",
       "  </tbody>\n",
       "</table>\n",
       "<p>23177 rows × 5 columns</p>\n",
       "</div>"
      ],
      "text/plain": [
       "       Date  Country  Confirmed  Recovered  Deaths\n",
       "0         0        0          0          0       0\n",
       "1         0        1          0          0       0\n",
       "2         0      100          0          0       0\n",
       "3         0      111          0          0       0\n",
       "4         0      122          0          0       0\n",
       "...     ...      ...        ...        ...     ...\n",
       "23683   125       94        429        365       3\n",
       "23684   125       95          9          6       1\n",
       "23685   125       96        249         10      49\n",
       "23686   125       97        920        336       7\n",
       "23687   125       98         56         25       4\n",
       "\n",
       "[23177 rows x 5 columns]"
      ]
     },
     "execution_count": 66,
     "metadata": {},
     "output_type": "execute_result"
    }
   ],
   "source": [
    "df_news"
   ]
  },
  {
   "cell_type": "code",
   "execution_count": 82,
   "metadata": {},
   "outputs": [],
   "source": [
    "y=df_news.iloc[:,-1]\n",
    "x=df_news.iloc[:,0:-1]"
   ]
  },
  {
   "cell_type": "code",
   "execution_count": 78,
   "metadata": {},
   "outputs": [
    {
     "data": {
      "text/plain": [
       "(23177, 5)"
      ]
     },
     "execution_count": 78,
     "metadata": {},
     "output_type": "execute_result"
    }
   ],
   "source": [
    "df_news.shape"
   ]
  },
  {
   "cell_type": "markdown",
   "metadata": {},
   "source": [
    "Transforming Data To Remove Skewness"
   ]
  },
  {
   "cell_type": "code",
   "execution_count": 83,
   "metadata": {},
   "outputs": [
    {
     "data": {
      "text/plain": [
       "array([[-2.09162202, -2.10872693, -1.11523507, -0.92085422],\n",
       "       [-2.09162202, -2.04950776, -1.11523507, -0.92085422],\n",
       "       [-2.09162202,  0.22101172, -1.11523507, -0.92085422],\n",
       "       ...,\n",
       "       [ 1.56693468,  0.15305179,  0.72632509,  0.37203629],\n",
       "       [ 1.56693468,  0.17011838,  1.03027292,  1.28617797],\n",
       "       [ 1.56693468,  0.18713345,  0.32944011,  0.67855172]])"
      ]
     },
     "execution_count": 83,
     "metadata": {},
     "output_type": "execute_result"
    }
   ],
   "source": [
    "from sklearn.preprocessing import power_transform\n",
    "x=power_transform(x,method='yeo-johnson')\n",
    "x"
   ]
  },
  {
   "cell_type": "code",
   "execution_count": 84,
   "metadata": {},
   "outputs": [
    {
     "data": {
      "text/plain": [
       "array([[-2.09162202, -2.10872693, -1.11523507, -0.92085422],\n",
       "       [-2.09162202, -2.04950776, -1.11523507, -0.92085422],\n",
       "       [-2.09162202,  0.22101172, -1.11523507, -0.92085422],\n",
       "       ...,\n",
       "       [ 1.56693468,  0.15305179,  0.72632509,  0.37203629],\n",
       "       [ 1.56693468,  0.17011838,  1.03027292,  1.28617797],\n",
       "       [ 1.56693468,  0.18713345,  0.32944011,  0.67855172]])"
      ]
     },
     "execution_count": 84,
     "metadata": {},
     "output_type": "execute_result"
    }
   ],
   "source": [
    "from sklearn.preprocessing import StandardScaler\n",
    "sc=StandardScaler()\n",
    "x_t=sc.fit_transform(x)\n",
    "x_t"
   ]
  },
  {
   "cell_type": "markdown",
   "metadata": {},
   "source": [
    "We Will Use Linear Regression as the Increasing in Confirmed Cases keeps on Influencing the Death Rate"
   ]
  },
  {
   "cell_type": "code",
   "execution_count": 88,
   "metadata": {},
   "outputs": [
    {
     "name": "stdout",
     "output_type": "stream",
     "text": [
      "At Random State 204 . The Model Is Performing Very Well\n",
      "At Random State:- 204\n",
      "At Random State 246 . The Model Is Performing Very Well\n",
      "At Random State:- 246\n",
      "At Random State 526 . The Model Is Performing Very Well\n",
      "At Random State:- 526\n",
      "At Random State 559 . The Model Is Performing Very Well\n",
      "At Random State:- 559\n",
      "At Random State 620 . The Model Is Performing Very Well\n",
      "At Random State:- 620\n",
      "At Random State 630 . The Model Is Performing Very Well\n",
      "At Random State:- 630\n",
      "At Random State 779 . The Model Is Performing Very Well\n",
      "At Random State:- 779\n",
      "At Random State 816 . The Model Is Performing Very Well\n",
      "At Random State:- 816\n",
      "At Random State 819 . The Model Is Performing Very Well\n",
      "At Random State:- 819\n",
      "At Random State 824 . The Model Is Performing Very Well\n",
      "At Random State:- 824\n",
      "At Random State 843 . The Model Is Performing Very Well\n",
      "At Random State:- 843\n",
      "At Random State 871 . The Model Is Performing Very Well\n",
      "At Random State:- 871\n",
      "At Random State 1183 . The Model Is Performing Very Well\n",
      "At Random State:- 1183\n",
      "At Random State 1342 . The Model Is Performing Very Well\n",
      "At Random State:- 1342\n",
      "At Random State 1365 . The Model Is Performing Very Well\n",
      "At Random State:- 1365\n",
      "At Random State 1395 . The Model Is Performing Very Well\n",
      "At Random State:- 1395\n",
      "At Random State 1798 . The Model Is Performing Very Well\n",
      "At Random State:- 1798\n",
      "At Random State 2358 . The Model Is Performing Very Well\n",
      "At Random State:- 2358\n",
      "At Random State 2774 . The Model Is Performing Very Well\n",
      "At Random State:- 2774\n",
      "At Random State 2985 . The Model Is Performing Very Well\n",
      "At Random State:- 2985\n",
      "At Random State 3402 . The Model Is Performing Very Well\n",
      "At Random State:- 3402\n",
      "At Random State 3420 . The Model Is Performing Very Well\n",
      "At Random State:- 3420\n",
      "At Random State 3608 . The Model Is Performing Very Well\n",
      "At Random State:- 3608\n",
      "At Random State 3679 . The Model Is Performing Very Well\n",
      "At Random State:- 3679\n",
      "At Random State 3728 . The Model Is Performing Very Well\n",
      "At Random State:- 3728\n",
      "At Random State 3931 . The Model Is Performing Very Well\n",
      "At Random State:- 3931\n",
      "At Random State 4052 . The Model Is Performing Very Well\n",
      "At Random State:- 4052\n",
      "At Random State 4218 . The Model Is Performing Very Well\n",
      "At Random State:- 4218\n",
      "At Random State 4340 . The Model Is Performing Very Well\n",
      "At Random State:- 4340\n",
      "At Random State 4451 . The Model Is Performing Very Well\n",
      "At Random State:- 4451\n",
      "At Random State 4518 . The Model Is Performing Very Well\n",
      "At Random State:- 4518\n",
      "At Random State 4557 . The Model Is Performing Very Well\n",
      "At Random State:- 4557\n",
      "At Random State 4665 . The Model Is Performing Very Well\n",
      "At Random State:- 4665\n",
      "At Random State 4798 . The Model Is Performing Very Well\n",
      "At Random State:- 4798\n",
      "At Random State 4998 . The Model Is Performing Very Well\n",
      "At Random State:- 4998\n",
      "At Random State 5645 . The Model Is Performing Very Well\n",
      "At Random State:- 5645\n",
      "At Random State 6421 . The Model Is Performing Very Well\n",
      "At Random State:- 6421\n",
      "At Random State 6438 . The Model Is Performing Very Well\n",
      "At Random State:- 6438\n",
      "At Random State 6870 . The Model Is Performing Very Well\n",
      "At Random State:- 6870\n",
      "At Random State 7082 . The Model Is Performing Very Well\n",
      "At Random State:- 7082\n",
      "At Random State 7303 . The Model Is Performing Very Well\n",
      "At Random State:- 7303\n",
      "At Random State 7386 . The Model Is Performing Very Well\n",
      "At Random State:- 7386\n",
      "At Random State 7538 . The Model Is Performing Very Well\n",
      "At Random State:- 7538\n",
      "At Random State 7754 . The Model Is Performing Very Well\n",
      "At Random State:- 7754\n",
      "At Random State 7979 . The Model Is Performing Very Well\n",
      "At Random State:- 7979\n",
      "At Random State 8032 . The Model Is Performing Very Well\n",
      "At Random State:- 8032\n",
      "At Random State 8123 . The Model Is Performing Very Well\n",
      "At Random State:- 8123\n",
      "At Random State 8220 . The Model Is Performing Very Well\n",
      "At Random State:- 8220\n",
      "At Random State 8259 . The Model Is Performing Very Well\n",
      "At Random State:- 8259\n",
      "At Random State 8802 . The Model Is Performing Very Well\n",
      "At Random State:- 8802\n",
      "At Random State 9236 . The Model Is Performing Very Well\n",
      "At Random State:- 9236\n",
      "At Random State 9298 . The Model Is Performing Very Well\n",
      "At Random State:- 9298\n",
      "At Random State 9754 . The Model Is Performing Very Well\n",
      "At Random State:- 9754\n",
      "At Random State 9946 . The Model Is Performing Very Well\n",
      "At Random State:- 9946\n",
      "At Random State 10025 . The Model Is Performing Very Well\n",
      "At Random State:- 10025\n",
      "At Random State 10044 . The Model Is Performing Very Well\n",
      "At Random State:- 10044\n",
      "At Random State 10209 . The Model Is Performing Very Well\n",
      "At Random State:- 10209\n",
      "At Random State 10228 . The Model Is Performing Very Well\n",
      "At Random State:- 10228\n",
      "At Random State 10246 . The Model Is Performing Very Well\n",
      "At Random State:- 10246\n",
      "At Random State 10420 . The Model Is Performing Very Well\n",
      "At Random State:- 10420\n",
      "At Random State 10564 . The Model Is Performing Very Well\n",
      "At Random State:- 10564\n",
      "At Random State 10689 . The Model Is Performing Very Well\n",
      "At Random State:- 10689\n",
      "At Random State 10775 . The Model Is Performing Very Well\n",
      "At Random State:- 10775\n",
      "At Random State 10969 . The Model Is Performing Very Well\n",
      "At Random State:- 10969\n",
      "At Random State 11057 . The Model Is Performing Very Well\n",
      "At Random State:- 11057\n",
      "At Random State 11215 . The Model Is Performing Very Well\n",
      "At Random State:- 11215\n",
      "At Random State 11304 . The Model Is Performing Very Well\n",
      "At Random State:- 11304\n",
      "At Random State 11305 . The Model Is Performing Very Well\n",
      "At Random State:- 11305\n",
      "At Random State 11422 . The Model Is Performing Very Well\n",
      "At Random State:- 11422\n",
      "At Random State 11929 . The Model Is Performing Very Well\n",
      "At Random State:- 11929\n",
      "At Random State 12019 . The Model Is Performing Very Well\n",
      "At Random State:- 12019\n",
      "At Random State 12340 . The Model Is Performing Very Well\n",
      "At Random State:- 12340\n",
      "At Random State 12507 . The Model Is Performing Very Well\n",
      "At Random State:- 12507\n",
      "At Random State 12667 . The Model Is Performing Very Well\n",
      "At Random State:- 12667\n",
      "At Random State 12725 . The Model Is Performing Very Well\n",
      "At Random State:- 12725\n",
      "At Random State 13062 . The Model Is Performing Very Well\n",
      "At Random State:- 13062\n",
      "At Random State 13075 . The Model Is Performing Very Well\n",
      "At Random State:- 13075\n",
      "At Random State 13132 . The Model Is Performing Very Well\n",
      "At Random State:- 13132\n",
      "At Random State 13135 . The Model Is Performing Very Well\n",
      "At Random State:- 13135\n",
      "At Random State 13272 . The Model Is Performing Very Well\n",
      "At Random State:- 13272\n"
     ]
    },
    {
     "ename": "KeyboardInterrupt",
     "evalue": "",
     "output_type": "error",
     "traceback": [
      "\u001b[1;31m---------------------------------------------------------------------------\u001b[0m",
      "\u001b[1;31mKeyboardInterrupt\u001b[0m                         Traceback (most recent call last)",
      "\u001b[1;32m<ipython-input-88-ed57af5a16e5>\u001b[0m in \u001b[0;36m<module>\u001b[1;34m\u001b[0m\n\u001b[0;32m      7\u001b[0m \u001b[1;32mfor\u001b[0m \u001b[0mi\u001b[0m \u001b[1;32min\u001b[0m \u001b[0mrange\u001b[0m\u001b[1;33m(\u001b[0m\u001b[1;36m0\u001b[0m\u001b[1;33m,\u001b[0m\u001b[1;36m25000\u001b[0m\u001b[1;33m)\u001b[0m\u001b[1;33m:\u001b[0m\u001b[1;33m\u001b[0m\u001b[1;33m\u001b[0m\u001b[0m\n\u001b[0;32m      8\u001b[0m     \u001b[0mx_train\u001b[0m\u001b[1;33m,\u001b[0m\u001b[0mx_test\u001b[0m\u001b[1;33m,\u001b[0m\u001b[0my_train\u001b[0m\u001b[1;33m,\u001b[0m\u001b[0my_test\u001b[0m\u001b[1;33m=\u001b[0m\u001b[0mtrain_test_split\u001b[0m\u001b[1;33m(\u001b[0m\u001b[0mx_t\u001b[0m\u001b[1;33m,\u001b[0m\u001b[0my\u001b[0m\u001b[1;33m,\u001b[0m\u001b[0mtest_size\u001b[0m\u001b[1;33m=\u001b[0m\u001b[1;36m0.20\u001b[0m\u001b[1;33m,\u001b[0m\u001b[0mrandom_state\u001b[0m\u001b[1;33m=\u001b[0m\u001b[0mi\u001b[0m\u001b[1;33m)\u001b[0m\u001b[1;33m\u001b[0m\u001b[1;33m\u001b[0m\u001b[0m\n\u001b[1;32m----> 9\u001b[1;33m     \u001b[0mlr\u001b[0m\u001b[1;33m.\u001b[0m\u001b[0mfit\u001b[0m\u001b[1;33m(\u001b[0m\u001b[0mx_train\u001b[0m\u001b[1;33m,\u001b[0m\u001b[0my_train\u001b[0m\u001b[1;33m)\u001b[0m\u001b[1;33m\u001b[0m\u001b[1;33m\u001b[0m\u001b[0m\n\u001b[0m\u001b[0;32m     10\u001b[0m     \u001b[0mpred_train\u001b[0m\u001b[1;33m=\u001b[0m\u001b[0mlr\u001b[0m\u001b[1;33m.\u001b[0m\u001b[0mpredict\u001b[0m\u001b[1;33m(\u001b[0m\u001b[0mx_train\u001b[0m\u001b[1;33m)\u001b[0m\u001b[1;33m\u001b[0m\u001b[1;33m\u001b[0m\u001b[0m\n\u001b[0;32m     11\u001b[0m     \u001b[0mpred_test\u001b[0m\u001b[1;33m=\u001b[0m\u001b[0mlr\u001b[0m\u001b[1;33m.\u001b[0m\u001b[0mpredict\u001b[0m\u001b[1;33m(\u001b[0m\u001b[0mx_test\u001b[0m\u001b[1;33m)\u001b[0m\u001b[1;33m\u001b[0m\u001b[1;33m\u001b[0m\u001b[0m\n",
      "\u001b[1;32m~\\anaconda3\\lib\\site-packages\\sklearn\\linear_model\\_base.py\u001b[0m in \u001b[0;36mfit\u001b[1;34m(self, X, y, sample_weight)\u001b[0m\n\u001b[0;32m    510\u001b[0m                                                  dtype=X.dtype)\n\u001b[0;32m    511\u001b[0m \u001b[1;33m\u001b[0m\u001b[0m\n\u001b[1;32m--> 512\u001b[1;33m         X, y, X_offset, y_offset, X_scale = self._preprocess_data(\n\u001b[0m\u001b[0;32m    513\u001b[0m             \u001b[0mX\u001b[0m\u001b[1;33m,\u001b[0m \u001b[0my\u001b[0m\u001b[1;33m,\u001b[0m \u001b[0mfit_intercept\u001b[0m\u001b[1;33m=\u001b[0m\u001b[0mself\u001b[0m\u001b[1;33m.\u001b[0m\u001b[0mfit_intercept\u001b[0m\u001b[1;33m,\u001b[0m \u001b[0mnormalize\u001b[0m\u001b[1;33m=\u001b[0m\u001b[0mself\u001b[0m\u001b[1;33m.\u001b[0m\u001b[0mnormalize\u001b[0m\u001b[1;33m,\u001b[0m\u001b[1;33m\u001b[0m\u001b[1;33m\u001b[0m\u001b[0m\n\u001b[0;32m    514\u001b[0m             \u001b[0mcopy\u001b[0m\u001b[1;33m=\u001b[0m\u001b[0mself\u001b[0m\u001b[1;33m.\u001b[0m\u001b[0mcopy_X\u001b[0m\u001b[1;33m,\u001b[0m \u001b[0msample_weight\u001b[0m\u001b[1;33m=\u001b[0m\u001b[0msample_weight\u001b[0m\u001b[1;33m,\u001b[0m\u001b[1;33m\u001b[0m\u001b[1;33m\u001b[0m\u001b[0m\n",
      "\u001b[1;32m~\\anaconda3\\lib\\site-packages\\sklearn\\linear_model\\_base.py\u001b[0m in \u001b[0;36m_preprocess_data\u001b[1;34m(X, y, fit_intercept, normalize, copy, sample_weight, return_mean, check_input)\u001b[0m\n\u001b[0;32m    158\u001b[0m \u001b[1;33m\u001b[0m\u001b[0m\n\u001b[0;32m    159\u001b[0m         \u001b[1;32melse\u001b[0m\u001b[1;33m:\u001b[0m\u001b[1;33m\u001b[0m\u001b[1;33m\u001b[0m\u001b[0m\n\u001b[1;32m--> 160\u001b[1;33m             \u001b[0mX_offset\u001b[0m \u001b[1;33m=\u001b[0m \u001b[0mnp\u001b[0m\u001b[1;33m.\u001b[0m\u001b[0maverage\u001b[0m\u001b[1;33m(\u001b[0m\u001b[0mX\u001b[0m\u001b[1;33m,\u001b[0m \u001b[0maxis\u001b[0m\u001b[1;33m=\u001b[0m\u001b[1;36m0\u001b[0m\u001b[1;33m,\u001b[0m \u001b[0mweights\u001b[0m\u001b[1;33m=\u001b[0m\u001b[0msample_weight\u001b[0m\u001b[1;33m)\u001b[0m\u001b[1;33m\u001b[0m\u001b[1;33m\u001b[0m\u001b[0m\n\u001b[0m\u001b[0;32m    161\u001b[0m             \u001b[0mX\u001b[0m \u001b[1;33m-=\u001b[0m \u001b[0mX_offset\u001b[0m\u001b[1;33m\u001b[0m\u001b[1;33m\u001b[0m\u001b[0m\n\u001b[0;32m    162\u001b[0m             \u001b[1;32mif\u001b[0m \u001b[0mnormalize\u001b[0m\u001b[1;33m:\u001b[0m\u001b[1;33m\u001b[0m\u001b[1;33m\u001b[0m\u001b[0m\n",
      "\u001b[1;32m<__array_function__ internals>\u001b[0m in \u001b[0;36maverage\u001b[1;34m(*args, **kwargs)\u001b[0m\n",
      "\u001b[1;32m~\\anaconda3\\lib\\site-packages\\numpy\\lib\\function_base.py\u001b[0m in \u001b[0;36maverage\u001b[1;34m(a, axis, weights, returned)\u001b[0m\n\u001b[0;32m    391\u001b[0m \u001b[1;33m\u001b[0m\u001b[0m\n\u001b[0;32m    392\u001b[0m     \u001b[1;32mif\u001b[0m \u001b[0mweights\u001b[0m \u001b[1;32mis\u001b[0m \u001b[1;32mNone\u001b[0m\u001b[1;33m:\u001b[0m\u001b[1;33m\u001b[0m\u001b[1;33m\u001b[0m\u001b[0m\n\u001b[1;32m--> 393\u001b[1;33m         \u001b[0mavg\u001b[0m \u001b[1;33m=\u001b[0m \u001b[0ma\u001b[0m\u001b[1;33m.\u001b[0m\u001b[0mmean\u001b[0m\u001b[1;33m(\u001b[0m\u001b[0maxis\u001b[0m\u001b[1;33m)\u001b[0m\u001b[1;33m\u001b[0m\u001b[1;33m\u001b[0m\u001b[0m\n\u001b[0m\u001b[0;32m    394\u001b[0m         \u001b[0mscl\u001b[0m \u001b[1;33m=\u001b[0m \u001b[0mavg\u001b[0m\u001b[1;33m.\u001b[0m\u001b[0mdtype\u001b[0m\u001b[1;33m.\u001b[0m\u001b[0mtype\u001b[0m\u001b[1;33m(\u001b[0m\u001b[0ma\u001b[0m\u001b[1;33m.\u001b[0m\u001b[0msize\u001b[0m\u001b[1;33m/\u001b[0m\u001b[0mavg\u001b[0m\u001b[1;33m.\u001b[0m\u001b[0msize\u001b[0m\u001b[1;33m)\u001b[0m\u001b[1;33m\u001b[0m\u001b[1;33m\u001b[0m\u001b[0m\n\u001b[0;32m    395\u001b[0m     \u001b[1;32melse\u001b[0m\u001b[1;33m:\u001b[0m\u001b[1;33m\u001b[0m\u001b[1;33m\u001b[0m\u001b[0m\n",
      "\u001b[1;32m~\\anaconda3\\lib\\site-packages\\numpy\\core\\_methods.py\u001b[0m in \u001b[0;36m_mean\u001b[1;34m(a, axis, dtype, out, keepdims)\u001b[0m\n\u001b[0;32m    149\u001b[0m             \u001b[0mis_float16_result\u001b[0m \u001b[1;33m=\u001b[0m \u001b[1;32mTrue\u001b[0m\u001b[1;33m\u001b[0m\u001b[1;33m\u001b[0m\u001b[0m\n\u001b[0;32m    150\u001b[0m \u001b[1;33m\u001b[0m\u001b[0m\n\u001b[1;32m--> 151\u001b[1;33m     \u001b[0mret\u001b[0m \u001b[1;33m=\u001b[0m \u001b[0mumr_sum\u001b[0m\u001b[1;33m(\u001b[0m\u001b[0marr\u001b[0m\u001b[1;33m,\u001b[0m \u001b[0maxis\u001b[0m\u001b[1;33m,\u001b[0m \u001b[0mdtype\u001b[0m\u001b[1;33m,\u001b[0m \u001b[0mout\u001b[0m\u001b[1;33m,\u001b[0m \u001b[0mkeepdims\u001b[0m\u001b[1;33m)\u001b[0m\u001b[1;33m\u001b[0m\u001b[1;33m\u001b[0m\u001b[0m\n\u001b[0m\u001b[0;32m    152\u001b[0m     \u001b[1;32mif\u001b[0m \u001b[0misinstance\u001b[0m\u001b[1;33m(\u001b[0m\u001b[0mret\u001b[0m\u001b[1;33m,\u001b[0m \u001b[0mmu\u001b[0m\u001b[1;33m.\u001b[0m\u001b[0mndarray\u001b[0m\u001b[1;33m)\u001b[0m\u001b[1;33m:\u001b[0m\u001b[1;33m\u001b[0m\u001b[1;33m\u001b[0m\u001b[0m\n\u001b[0;32m    153\u001b[0m         ret = um.true_divide(\n",
      "\u001b[1;31mKeyboardInterrupt\u001b[0m: "
     ]
    }
   ],
   "source": [
    "from sklearn.model_selection import train_test_split\n",
    "from sklearn.linear_model import LinearRegression\n",
    "lr=LinearRegression()\n",
    "from sklearn.metrics import r2_score\n",
    "\n",
    "max_scr=0\n",
    "for i in range(0,25000):\n",
    "    x_train,x_test,y_train,y_test=train_test_split(x_t,y,test_size=0.20,random_state=i)\n",
    "    lr.fit(x_train,y_train)\n",
    "    pred_train=lr.predict(x_train)\n",
    "    pred_test=lr.predict(x_test)\n",
    "    if round (r2_score(y_train,pred_train)*100,2)==round(r2_score(y_test,pred_test)*100,2):\n",
    "        print(\"At Random State\",i,\". The Model Is Performing Very Well\")\n",
    "        print(\"At Random State:-\",i)\n",
    "        \n",
    "        "
   ]
  },
  {
   "cell_type": "code",
   "execution_count": 89,
   "metadata": {},
   "outputs": [],
   "source": [
    "x_train,x_test,y_train,y_test=train_test_split(x_t,y,test_size=0.20,random_state=10689) #Random state = 10689"
   ]
  },
  {
   "cell_type": "code",
   "execution_count": 90,
   "metadata": {},
   "outputs": [],
   "source": [
    "from sklearn.model_selection import GridSearchCV\n",
    "from sklearn.model_selection import cross_val_score\n",
    "import warnings\n",
    "warnings.filterwarnings('ignore')"
   ]
  },
  {
   "cell_type": "markdown",
   "metadata": {},
   "source": [
    "Regularisation"
   ]
  },
  {
   "cell_type": "code",
   "execution_count": 91,
   "metadata": {},
   "outputs": [
    {
     "name": "stdout",
     "output_type": "stream",
     "text": [
      "{'alpha': 0.1, 'random_state': 0}\n"
     ]
    }
   ],
   "source": [
    "#Lasso Regression\n",
    "from sklearn.linear_model import Lasso\n",
    "parameters ={'alpha':[.00001,.0001,.001,.01,.1,1,10],'random_state':list(range(0,10))}\n",
    "ls=Lasso()\n",
    "clf=GridSearchCV(ls,parameters)\n",
    "clf.fit(x_train,y_train)\n",
    "print (clf.best_params_)"
   ]
  },
  {
   "cell_type": "code",
   "execution_count": 92,
   "metadata": {},
   "outputs": [
    {
     "name": "stdout",
     "output_type": "stream",
     "text": [
      "At CV :- 2\n",
      "Cross Validation Score is :- -932.3109234735919\n",
      "R2_score is :- 10.52726753906612\n",
      "\n",
      "\n",
      "At CV :- 3\n",
      "Cross Validation Score is :- -64.713723682876\n",
      "R2_score is :- 10.52726753906612\n",
      "\n",
      "\n",
      "At CV :- 4\n",
      "Cross Validation Score is :- -43.283889966234355\n",
      "R2_score is :- 10.52726753906612\n",
      "\n",
      "\n",
      "At CV :- 5\n",
      "Cross Validation Score is :- -52.13635933835326\n",
      "R2_score is :- 10.52726753906612\n",
      "\n",
      "\n",
      "At CV :- 6\n",
      "Cross Validation Score is :- -86.61869760454279\n",
      "R2_score is :- 10.52726753906612\n",
      "\n",
      "\n",
      "At CV :- 7\n",
      "Cross Validation Score is :- -147.991410725724\n",
      "R2_score is :- 10.52726753906612\n",
      "\n",
      "\n",
      "At CV :- 8\n",
      "Cross Validation Score is :- -188.20254923629813\n",
      "R2_score is :- 10.52726753906612\n",
      "\n",
      "\n",
      "At CV :- 9\n",
      "Cross Validation Score is :- -326.21246514430743\n",
      "R2_score is :- 10.52726753906612\n",
      "\n",
      "\n"
     ]
    }
   ],
   "source": [
    "ls=Lasso(alpha=0.1,random_state=0)\n",
    "ls.fit(x_train,y_train)\n",
    "ls.score(x_train,y_train)\n",
    "pred_ls=ls.predict(x_test)\n",
    "\n",
    "lss=r2_score(y_test,pred_ls)\n",
    "for j in range(2,10):\n",
    "    lsscore = cross_val_score(ls,x_t,y,cv=j)\n",
    "    lsc=lsscore.mean()\n",
    "    print(\"At CV :-\",j)\n",
    "    print(\"Cross Validation Score is :-\",lsc*100)\n",
    "    print (\"R2_score is :-\",lss*100)\n",
    "    print('\\n')"
   ]
  },
  {
   "cell_type": "code",
   "execution_count": 93,
   "metadata": {},
   "outputs": [
    {
     "name": "stdout",
     "output_type": "stream",
     "text": [
      "Error:\n",
      "Mean Absolute Error: 225.2555773560565\n",
      "Mean Square Error: 359159.7143186214\n",
      "Root Mean Sqaured Error: 599.2993528434862\n"
     ]
    }
   ],
   "source": [
    "from sklearn.metrics import mean_squared_error,mean_absolute_error\n",
    "print(\"Error:\")\n",
    "print(\"Mean Absolute Error:\",mean_absolute_error(y_test,pred_ls))\n",
    "print(\"Mean Square Error:\",mean_squared_error(y_test,pred_ls))\n",
    "print(\"Root Mean Sqaured Error:\", np.sqrt(mean_squared_error(y_test,pred_ls)))"
   ]
  },
  {
   "cell_type": "code",
   "execution_count": 95,
   "metadata": {},
   "outputs": [
    {
     "data": {
      "image/png": "[encoded data removed]",
      "text/plain": [
       "<Figure size 576x432 with 1 Axes>"
      ]
     },
     "metadata": {
      "needs_background": "light"
     },
     "output_type": "display_data"
    }
   ],
   "source": [
    "plt.figure(figsize=(8,6))\n",
    "plt.scatter(x=y_test,y=pred_ls,color='r')\n",
    "plt.plot(y_test,y_test,color='b')\n",
    "plt.xlabel('Actual Death Rate',fontsize=14)\n",
    "plt.ylabel('Predicted Death Rate',fontsize=14)\n",
    "plt.title('Lasso Regression',fontsize=18)\n",
    "plt.show()"
   ]
  },
  {
   "cell_type": "markdown",
   "metadata": {},
   "source": [
    "Data Point are far from the Predicted Line"
   ]
  },
  {
   "cell_type": "code",
   "execution_count": 96,
   "metadata": {},
   "outputs": [
    {
     "name": "stdout",
     "output_type": "stream",
     "text": [
      "{'criterion': 'mse', 'splitter': 'best'}\n"
     ]
    }
   ],
   "source": [
    "#Ensemblier Technique\n",
    "from sklearn.tree import DecisionTreeRegressor\n",
    "parameters={'criterion':['mse','friedman_mse','mse'],'splitter':['best','random']}\n",
    "dt=DecisionTreeRegressor()\n",
    "clf=GridSearchCV(dt,parameters)\n",
    "clf.fit(x_train,y_train)\n",
    "print (clf.best_params_)"
   ]
  },
  {
   "cell_type": "code",
   "execution_count": 97,
   "metadata": {},
   "outputs": [
    {
     "name": "stdout",
     "output_type": "stream",
     "text": [
      "r2_score: 95.88139704180779\n",
      "Cross Val Score: 13.231854543808355\n"
     ]
    }
   ],
   "source": [
    "dt=DecisionTreeRegressor(criterion='mse', splitter='best')\n",
    "dt.fit(x_train,y_train)\n",
    "dt.score(x_train,y_train)\n",
    "pred_decision=dt.predict(x_test)\n",
    "dts=r2_score(y_test,pred_decision)\n",
    "print(\"r2_score:\",dts*100)\n",
    "dtscore = cross_val_score(dt,x_t,y,cv=3)\n",
    "dtc=dtscore.mean()\n",
    "print('Cross Val Score:',dtc*100)"
   ]
  },
  {
   "cell_type": "code",
   "execution_count": 98,
   "metadata": {},
   "outputs": [
    {
     "name": "stdout",
     "output_type": "stream",
     "text": [
      "Error:\n",
      "Mean Absolute Error: 225.2555773560565\n",
      "Mean Square Error: 359159.7143186214\n",
      "Root Mean Sqaured Error: 599.2993528434862\n"
     ]
    }
   ],
   "source": [
    "print(\"Error:\")\n",
    "print(\"Mean Absolute Error:\",mean_absolute_error(y_test,pred_ls))\n",
    "print(\"Mean Square Error:\",mean_squared_error(y_test,pred_ls))\n",
    "print(\"Root Mean Sqaured Error:\", np.sqrt(mean_squared_error(y_test,pred_ls)))"
   ]
  },
  {
   "cell_type": "code",
   "execution_count": 100,
   "metadata": {},
   "outputs": [
    {
     "data": {
      "image/png": "[encoded data removed]",
      "text/plain": [
       "<Figure size 576x432 with 1 Axes>"
      ]
     },
     "metadata": {
      "needs_background": "light"
     },
     "output_type": "display_data"
    }
   ],
   "source": [
    "plt.figure(figsize=(8,6))\n",
    "plt.scatter(x=y_test,y=pred_decision,color='r')\n",
    "plt.plot(y_test,y_test,color='b')\n",
    "plt.xlabel('Actual Death Rate',fontsize=14)\n",
    "plt.ylabel('Predicted Death Rate',fontsize=14)\n",
    "plt.title('Decision Tree Regression',fontsize=18)\n",
    "plt.show()"
   ]
  },
  {
   "cell_type": "markdown",
   "metadata": {},
   "source": [
    "Data Points are in Line with Predicted Lines"
   ]
  },
  {
   "cell_type": "code",
   "execution_count": null,
   "metadata": {},
   "outputs": [],
   "source": [
    "rf=RandomForestRegressor(criterion='friedman_mse', splitter='random')\n",
    "rf.fit(x_train,y_train)\n",
    "rf.score(x_train,y_train)\n",
    "pred_decision=rf.predict(x_test)\n",
    "rfs=r2_score(y_test,pred_decision)\n",
    "print(\"r2_score:\",rfs*100)\n",
    "rfscore = cross_val_score(rf,x_t,y,cv=3)\n",
    "rfc=rfscore.mean()\n",
    "print('Cross Val Score:',rfc*100)"
   ]
  },
  {
   "cell_type": "code",
   "execution_count": null,
   "metadata": {},
   "outputs": [],
   "source": [
    "plt.figure(figsize=(8,6))\n",
    "plt.scatter(x=y_test,y=pred_decision,color='r')\n",
    "plt.plot(y_test,y_test,color='b')\n",
    "plt.xlabel('Actual Death Rate',fontsize=14)\n",
    "plt.ylabel('Predicted Death Rate',fontsize=14)\n",
    "plt.title('Random Forest Regressor',fontsize=18)\n",
    "plt.show()"
   ]
  },
  {
   "cell_type": "code",
   "execution_count": null,
   "metadata": {},
   "outputs": [],
   "source": [
    "gbr=GradientBoostingRegressor(criterion='mse', loss='ls',n_estimators=50)\n",
    "gbr.fit(x_train,y_train)\n",
    "gbr.score(x_train,y_train)\n",
    "pred_random=gbr.predict(x_test)\n",
    "gbrs=r2_score(y_test,pred_decision)\n",
    "print(\"r2_score:\",gbrs*100)\n",
    "gbscore = cross_val_score(gbr,x_t,y,cv=3)\n",
    "gbrc=gbscore.mean()\n",
    "print('Cross Val Score:',gbrc*100)"
   ]
  },
  {
   "cell_type": "code",
   "execution_count": null,
   "metadata": {},
   "outputs": [],
   "source": [
    "plt.figure(figsize=(8,6))\n",
    "plt.scatter(x=y_test,y=pred_decision,color='r')\n",
    "plt.plot(y_test,y_test,color='b')\n",
    "plt.xlabel('Actual Death Rate',fontsize=14)\n",
    "plt.ylabel('Predicted Death Rate',fontsize=14)\n",
    "plt.title('GradientBoostingRegressor',fontsize=18)\n",
    "plt.show()"
   ]
  },
  {
   "cell_type": "code",
   "execution_count": null,
   "metadata": {},
   "outputs": [],
   "source": [
    "from sklearn.svm import SVR\n",
    "parameters = {'kernel':['linear','poly','rbf','sigmoid']}\n",
    "sv=SVR()\n",
    "clf=GridSearchCV(sv,parameters)\n",
    "clf.fit(x_train,y_train)\n",
    "print(clf.best_params_)"
   ]
  },
  {
   "cell_type": "code",
   "execution_count": null,
   "metadata": {},
   "outputs": [],
   "source": [
    "sv=SVR(kernel='linear',gamma='auto')\n",
    "sv.fit(x_train,y_train)\n",
    "sv.score(x_train,y_train)\n",
    "pred_vector=sv.predict(x_test)\n",
    "svs=r2_score(y_test,pred_decision)\n",
    "print(\"r2_score:\",svs*100)\n",
    "svscore = cross_val_score(sv,x_t,y,cv=3)\n",
    "svc=svscore.mean()\n",
    "print('Cross Val Score:',svc*100)\n"
   ]
  },
  {
   "cell_type": "code",
   "execution_count": null,
   "metadata": {},
   "outputs": [],
   "source": [
    "plt.figure(figsize=(8,6))\n",
    "plt.scatter(x=y_test,y=pred_decision,color='r')\n",
    "plt.plot(y_test,y_test,color='b')\n",
    "plt.xlabel('Actual Death Rate',fontsize=14)\n",
    "plt.ylabel('Predicted Death Rate',fontsize=14)\n",
    "plt.title('Support Vector Regressior',fontsize=18)\n",
    "plt.show()"
   ]
  },
  {
   "cell_type": "code",
   "execution_count": 104,
   "metadata": {},
   "outputs": [],
   "source": [
    "import pickle\n",
    "filename='Project_18.pkl'\n",
    "pickle.dump(ls,open(filename,'wb'))"
   ]
  },
  {
   "cell_type": "raw",
   "metadata": {},
   "source": [
    "Decision Tree Regression is the suitable model as the Data Point are coreectly fitted to the predicted Line.\n",
    "r2_score is 95.88139704180779 which is high when compare with other models"
   ]
  }
 ],
 "metadata": {
  "kernelspec": {
   "display_name": "Python 3",
   "language": "python",
   "name": "python3"
  },
  "language_info": {
   "codemirror_mode": {
    "name": "ipython",
    "version": 3
   },
   "file_extension": ".py",
   "mimetype": "text/x-python",
   "name": "python",
   "nbconvert_exporter": "python",
   "pygments_lexer": "ipython3",
   "version": "3.8.3"
  }
 },
 "nbformat": 4,
 "nbformat_minor": 4
}
